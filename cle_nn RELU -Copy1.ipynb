{
 "cells": [
  {
   "cell_type": "markdown",
   "metadata": {},
   "source": [
    "# Neural Network from Scratch\n",
    "Code modified from https://github.com/adventuresinML/adventures-in-ml-code/blob/master/neural_network_tutorial.py\n",
    "\n",
    "The notation in this website is almost the same as the notation we are using in class.  Instead of $a$ the author uses $h$, and instead of $N$, the author uses $m$. (I have modified the code below to use $a$ and $N$.)\n",
    "\n",
    "Please read about this implementation starting at page 27 from the website listed above."
   ]
  },
  {
   "cell_type": "markdown",
   "metadata": {},
   "source": [
    "## The first thing we will do is import all the libraries\n",
    "\n",
    "We will be using the lower resolution MINST data set"
   ]
  },
  {
   "cell_type": "code",
   "execution_count": 1,
   "metadata": {},
   "outputs": [],
   "source": [
    "from sklearn.datasets import load_digits # The MNIST data set is in scikit learn data set\n",
    "from sklearn.preprocessing import StandardScaler  # It is important in neural networks to scale the date\n",
    "from sklearn.model_selection import train_test_split  # The standard - train/test to prevent overfitting and choose hyperparameters\n",
    "from sklearn.metrics import accuracy_score # \n",
    "import numpy as np\n",
    "import numpy.random as r # We will randomly initialize our weights\n",
    "import matplotlib.pyplot as plt \n",
    "\n",
    "import pandas as pd\n",
    "import matplotlib\n",
    "from matplotlib import pyplot as plt\n",
    "import copy\n",
    "from itertools import permutations\n"
   ]
  },
  {
   "cell_type": "markdown",
   "metadata": {},
   "source": [
    "## Looking at the data\n",
    "\n",
    "After we load the data, we print the shape of the data and a pixelated digit.\n",
    "\n",
    "We also show what the features of one example looks like.\n",
    "\n",
    "The neural net will learn to estimate which digit these pixels represent."
   ]
  },
  {
   "cell_type": "code",
   "execution_count": 2,
   "metadata": {},
   "outputs": [],
   "source": [
    "# After completing the code in this code cell, run this code cell before moving further.\n",
    "names =[\n",
    "    'age', 'sex', 'cp', 'trestbps', 'chol', 'fbs', \n",
    "    'restecg',  'thalach', 'exang', 'oldpeak', 'slope', 'ca', 'thal', 'num'\n",
    "]\n",
    "\n",
    "# TODO - write the pandas command to read the csv file into a dataframe df - 5 points\n",
    "df = pd.read_csv('https://archive.ics.uci.edu/ml/machine-learning-databases/heart-disease/processed.cleveland.data',\n",
    "                 header = None, names = names, na_values = '?')\n",
    "\n",
    "df = df.dropna()\n",
    "# print(df.shape)\n",
    "# print(df.shape)\n",
    "\n",
    "x=np.array(df.iloc[:,0:13])\n",
    "y=np.array(df.iloc[:,13:14])\n",
    "\n",
    "#The goal is to distinguish the presence from non-presense \n",
    "for i in range(len(y)):\n",
    "    if(y[i]>0):\n",
    "        y[i] = 1\n",
    "#print(y)\n",
    "\n",
    "# print(x.shape)\n",
    "# print(y.shape)"
   ]
  },
  {
   "cell_type": "markdown",
   "metadata": {},
   "source": [
    "## 1) Scale the dataset\n",
    "The training features range from 0 to 15.  To help the algorithm converge, we will scale the data to have a mean of 0 and unit variance"
   ]
  },
  {
   "cell_type": "code",
   "execution_count": 3,
   "metadata": {},
   "outputs": [
    {
     "data": {
      "text/plain": [
       "array([ 0.93618065,  0.69109474, -2.24062879,  0.75038004, -0.27644339,\n",
       "        2.43042728,  1.01019851,  0.01749443, -0.69641941,  1.06896529,\n",
       "        2.26414539, -0.72197605,  0.65587737])"
      ]
     },
     "execution_count": 3,
     "metadata": {},
     "output_type": "execute_result"
    }
   ],
   "source": [
    "X_scale = StandardScaler()\n",
    "X = X_scale.fit_transform(x)\n",
    "\n",
    "# X_orig = copy.deepcopy(X)\n",
    "# y_orig = copy.deepcopy(y)\n",
    "\n",
    "X[0,:] # Looking the new features after scaling\n",
    "#print(X.shape[1])"
   ]
  },
  {
   "cell_type": "markdown",
   "metadata": {},
   "source": [
    "## 2) Creating training and test datasets\n",
    "We split the data into training and test data sets. We will train the neural network with the training dataset, and evaluate our neural network with the test dataset "
   ]
  },
  {
   "cell_type": "code",
   "execution_count": 4,
   "metadata": {},
   "outputs": [],
   "source": [
    "#Split the data into training and test set.  60% training and %40 test\n",
    "X_train, X_test, y_train, y_test = train_test_split(X, y, test_size=0.4, random_state=42)\n",
    "#print(y_test)"
   ]
  },
  {
   "cell_type": "markdown",
   "metadata": {},
   "source": [
    "## 3) Setting up the output layer"
   ]
  },
  {
   "cell_type": "markdown",
   "metadata": {},
   "source": [
    "### One hot encoding\n",
    "Our target is an integer in the range [0,..,9], so we will have 10 output neuron's in our network.  \n",
    "\n",
    "-  If  $y=0$, we want the output neurons to have the values $(1,0,0,0,0,0,0,0,0,0)$\n",
    "\n",
    "-  If  $y=1$ we want the output neurons to have the values $(0,1,0,0,0,0,0,0,0,0)$\n",
    "-  etc\n",
    "\n",
    "Thus we need to change our target so it is the same as our hoped for output of the neural network.  \n",
    "-  If $y=0$ we change it into the vector $(1,0,0,0,0,0,0,0,0,0)$. \n",
    "-  If $y=1$ we change it into the vector $(0,1,0,0,0,0,0,0,0,0)$\n",
    "-  etc\n",
    "\n",
    "See page 29 from the website listed above\n",
    "\n",
    "The code to covert the target vector."
   ]
  },
  {
   "cell_type": "code",
   "execution_count": 5,
   "metadata": {},
   "outputs": [],
   "source": [
    "# def convert_y_to_vect(y):\n",
    "#     y_vect = np.zeros((len(y), 10))\n",
    "#     for i in range(len(y)):\n",
    "#         y_vect[i, y[i]] = 1\n",
    "#     return y_vect"
   ]
  },
  {
   "cell_type": "markdown",
   "metadata": {},
   "source": [
    "Converting the training and test targets to vectors "
   ]
  },
  {
   "cell_type": "code",
   "execution_count": 6,
   "metadata": {},
   "outputs": [],
   "source": [
    "# convert digits to vectors\n",
    "# y_v_train = convert_y_to_vect(y_train)\n",
    "# y_v_test = convert_y_to_vect(y_test)"
   ]
  },
  {
   "cell_type": "markdown",
   "metadata": {},
   "source": [
    "A quick check to see that our code performs as we expect "
   ]
  },
  {
   "cell_type": "code",
   "execution_count": 7,
   "metadata": {},
   "outputs": [],
   "source": [
    "# print(y_train[0:4])\n",
    "# print(y_v_train[0:4])"
   ]
  },
  {
   "cell_type": "markdown",
   "metadata": {},
   "source": [
    "## 4) Creating the neural network"
   ]
  },
  {
   "cell_type": "markdown",
   "metadata": {},
   "source": [
    "### The activation function and its derivative\n",
    "\n",
    "We will use the sigmoid activation function:  $f(z)=\\frac{1}{1+e^{-z}}$\n",
    "\n",
    "The deriviative of the sigmoid function is: $f'(z) = f(z)(1-f(z))$ "
   ]
  },
  {
   "cell_type": "code",
   "execution_count": 8,
   "metadata": {},
   "outputs": [],
   "source": [
    "def f(z):\n",
    "    return 1 / (1 + np.exp(-z))\n",
    "\n",
    "\n",
    "def f_deriv(z):\n",
    "    return f(z) * (1 - f(z))"
   ]
  },
  {
   "cell_type": "markdown",
   "metadata": {},
   "source": [
    "### Creating and initialing W and b\n",
    "We want the weights in W to be different so that during back propagation the nodes on a level will have different gradients and thus have different update values.\n",
    "\n",
    "We want the  weights to be small values, since the sigmoid is almost \"flat\" for large inputs.\n",
    "\n",
    "Next is the code that assigns each weight a number uniformly drawn from $[0.0, 1.0)$.  The code assumes that the number of neurons in each level is in the python list *nn_structure*.\n",
    "\n",
    "In the code, the weights, $W^{(\\ell)}$ and $b^{(\\ell)}$ are held in a python dictionary"
   ]
  },
  {
   "cell_type": "code",
   "execution_count": 9,
   "metadata": {},
   "outputs": [],
   "source": [
    "def setup_and_init_weights(nn_structure):\n",
    "    W = {} #creating a dictionary i.e. a set of key: value pairs\n",
    "    b = {}\n",
    "    for l in range(1, len(nn_structure)):\n",
    "        W[l] = r.random_sample((nn_structure[l], nn_structure[l-1])) #Return “continuous uniform” random floats in the half-open interval [0.0, 1.0). \n",
    "        b[l] = r.random_sample((nn_structure[l],))\n",
    "    return W, b"
   ]
  },
  {
   "cell_type": "markdown",
   "metadata": {},
   "source": [
    "### Initializing $\\triangledown W$ and $\\triangledown b$\n",
    "Creating $\\triangledown W^{(\\ell)}$ and $\\triangledown b^{(\\ell)}$ to have the same size as $W^{(\\ell)}$ and $b^{(\\ell)}$, and setting $\\triangledown W^{(\\ell)}$, and  $\\triangledown b^{(\\ell)}$ to zero"
   ]
  },
  {
   "cell_type": "code",
   "execution_count": 10,
   "metadata": {},
   "outputs": [],
   "source": [
    "def init_tri_values(nn_structure):\n",
    "    tri_W = {}\n",
    "    tri_b = {}\n",
    "    for l in range(1, len(nn_structure)):\n",
    "        tri_W[l] = np.zeros((nn_structure[l], nn_structure[l-1]))\n",
    "        tri_b[l] = np.zeros((nn_structure[l],))\n",
    "    return tri_W, tri_b"
   ]
  },
  {
   "cell_type": "markdown",
   "metadata": {},
   "source": [
    "## Feed forward\n",
    "Perform a forward pass throught the network.  The function returns the values of $a$ and $z$"
   ]
  },
  {
   "cell_type": "code",
   "execution_count": 11,
   "metadata": {},
   "outputs": [],
   "source": [
    "def feed_forward(x, W, b):\n",
    "    a = {1: x} # create a dictionary for holding the a values for all levels\n",
    "    z = { } # create a dictionary for holding the z values for all the layers\n",
    "    for l in range(1, len(W) + 1): # for each layer\n",
    "        node_in = a[l]\n",
    "        z[l+1] = W[l].dot(node_in) + b[l]  # z^(l+1) = W^(l)*a^(l) + b^(l)\n",
    "        a[l+1] = f(z[l+1]) # a^(l+1) = f(z^(l+1))\n",
    "    return a, z"
   ]
  },
  {
   "cell_type": "markdown",
   "metadata": {},
   "source": [
    "## Compute $\\delta$\n",
    "The code below compute $\\delta^{(s_l)}$ in a function called \"calculate_out_layer_delta\",  and  computes $\\delta^{(\\ell)}$ for the hidden layers in the function called \"calculate_hidden_delta\".  \n",
    "\n",
    "If we wanted to have a different cost function, we would change the \"calculate_out_layer_delta\" function.\n"
   ]
  },
  {
   "cell_type": "code",
   "execution_count": 12,
   "metadata": {},
   "outputs": [],
   "source": [
    "def calculate_out_layer_delta(y, a_out, z_out):\n",
    "    # delta^(nl) = -(y_i - a_i^(nl)) * f'(z_i^(nl))\n",
    "    return -(y-a_out) * f_deriv(z_out) \n",
    "\n",
    "\n",
    "def calculate_hidden_delta(delta_plus_1, w_l, z_l):\n",
    "    # delta^(l) = (transpose(W^(l)) * delta^(l+1)) * f'(z^(l))\n",
    "    return np.dot(np.transpose(w_l), delta_plus_1) * f_deriv(z_l)"
   ]
  },
  {
   "cell_type": "markdown",
   "metadata": {},
   "source": [
    "## The Back Propagation Algorithm\n"
   ]
  },
  {
   "cell_type": "code",
   "execution_count": 13,
   "metadata": {},
   "outputs": [],
   "source": [
    "# l=1, input layer\n",
    "\n",
    "def train_nn(nn_structure, X, y, iter_num=3000, alpha=0.5, lamb=0):\n",
    "    W, b = setup_and_init_weights(nn_structure)\n",
    "    cnt = 0\n",
    "    N = len(y)\n",
    "    avg_cost_func = []\n",
    "    print('Starting gradient descent for {} iterations'.format(iter_num))\n",
    "    \n",
    "    \n",
    "    while cnt < iter_num:\n",
    "        if cnt%1000 == 0:\n",
    "            print('Iteration {} of {}'.format(cnt, iter_num))\n",
    "        # clean derivative of Ws, since its different every time    \n",
    "        tri_W, tri_b = init_tri_values(nn_structure)\n",
    "        \n",
    "        avg_cost = 0\n",
    "        \n",
    "        # for every training sample set\n",
    "        \n",
    "        for i in range(N):\n",
    "            delta = {}\n",
    "            # perform the feed forward pass and return the stored a and z values, to be used in the\n",
    "            # gradient descent step\n",
    "            a, z = feed_forward(X[i, :], W, b)\n",
    "            # loop from nl-1 to 1 backpropagating the errors\n",
    "            for l in range(len(nn_structure), 0, -1):\n",
    "                # last/output layer\n",
    "                if l == len(nn_structure):\n",
    "                    delta[l] = calculate_out_layer_delta(y[i,:], a[l], z[l])\n",
    "                    avg_cost += np.linalg.norm((y[i,:]-a[l]))\n",
    "                else:\n",
    "                    #Remember that J/W_l = delta[l+1!!!]*a[l]\n",
    "                    if l > 1:\n",
    "                        delta[l] = calculate_hidden_delta(delta[l+1], W[l], z[l])\n",
    "                    # Since tri W_l = sum(J/w^l) for all xs --> J/w = delta_l+1 * a_l     \n",
    "                    # triW^(l) = triW^(l) + delta^(l+1) * transpose(a^(l))\n",
    "                    tri_W[l] += np.dot(delta[l+1][:,np.newaxis], np.transpose(a[l][:,np.newaxis]))# np.newaxis increase the number of dimensions\n",
    "                    # trib^(l) = trib^(l) + delta^(l+1)\n",
    "                    tri_b[l] += delta[l+1]\n",
    "                    \n",
    "        # this entire for i in N loop above is updating the  deri. of all W_ls\n",
    "                    \n",
    "        # perform the gradient descent step for the weights in EACH LAYER! \n",
    "        for l in range(len(nn_structure) - 1, 0, -1):\n",
    "            # wl and tri_W[l] are both 1D array/vectors\n",
    "            W[l] += -alpha * (1.0/N * tri_W[l] + lamb*W[l])\n",
    "            b[l] += -alpha * (1.0/N * tri_b[l])\n",
    "        # complete the average cost calculation\n",
    "        avg_cost = 1.0/N * avg_cost\n",
    "        avg_cost_func.append(avg_cost)\n",
    "        cnt += 1\n",
    "    #print(avg_cost_func)\n",
    "    return W, b, avg_cost_func\n",
    "\n",
    "\n",
    "def predict_y(W, b, X, n_layers, threshold):\n",
    "    N = X.shape[0]\n",
    "    y = np.zeros((N,))\n",
    "    \n",
    "    for i in range(N):\n",
    "        a, z = feed_forward(X[i, :], W, b)\n",
    "        if(a[n_layers] > threshold):\n",
    "            y[i] = 1\n",
    "        else:\n",
    "            y[i] = 0         \n",
    "    return y\n",
    "\n",
    "def predict_yhat(W, b, X, n_layers, threshold):\n",
    "    N = X.shape[0]\n",
    "    y = np.zeros((N,))\n",
    "    \n",
    "    for i in range(N):\n",
    "        a, z = feed_forward(X[i, :], W, b)\n",
    "        if(a[n_layers] > threshold):\n",
    "            y[i] = 1\n",
    "        else:\n",
    "            y[i] = 0         \n",
    "    return y\n",
    "\n"
   ]
  },
  {
   "cell_type": "markdown",
   "metadata": {},
   "source": [
    "## Running the neural network\n",
    "\n",
    "Our code assumes the size of each layer in our network is held in a list.  The input layer will have 64 neurons (one for each pixel in our 8 by 8 pixelated digit).  Our hidden layer has 30 neurons (you can change this value).  The output layer has 10 neurons.\n",
    "\n",
    "Next we create the python list to hold the number of neurons for each level and then run the neural network code with our training data.\n",
    "\n",
    "This code will take some time..."
   ]
  },
  {
   "cell_type": "code",
   "execution_count": 14,
   "metadata": {},
   "outputs": [],
   "source": [
    "#input layer, 1 hidden layer, 1 output\n",
    "\n",
    "\n",
    "# train the NN\n",
    "\n",
    "acc_300 = []\n",
    "acc_600 = []\n",
    "\n",
    "def main(n_neuro, lambs, num_iter=3000):\n",
    "    acc_test = []\n",
    "    acc_train = []\n",
    "    nn_structure = [13, 1]\n",
    "    nn_structure.insert(1,n_neuro)\n",
    "    \n",
    "    for i in range(len(lambs)):\n",
    "        W, b, avg_cost_func = train_nn(nn_structure, X_train, y_train, num_iter, lambs[i])\n",
    "\n",
    "#         plt.plot(avg_cost_func)\n",
    "#         plt.ylabel('Average J')\n",
    "#         plt.xlabel('Iteration number')\n",
    "#         plt.show()\n",
    "        y_hat =  predict_yhat(W, b, X_train, 3, 0.5)\n",
    "        y_pred = predict_y(W, b, X_test, 3, 0.5)\n",
    "        \n",
    "        print('Training accuracy is {}%'.format(accuracy_score(y_train, y_hat) * 100))\n",
    "        print('Prediction accuracy is {}%'.format(accuracy_score(y_test, y_pred) * 100))\n",
    "        \n",
    "        acc_train.append([lambs[i],accuracy_score(y_train, y_hat)])\n",
    "        acc_test.append([lambs[i],accuracy_score(y_test, y_pred)])\n",
    "    \n",
    "    return acc_train, acc_test"
   ]
  },
  {
   "cell_type": "code",
   "execution_count": 17,
   "metadata": {},
   "outputs": [
    {
     "name": "stdout",
     "output_type": "stream",
     "text": [
      "Starting gradient descent for 3000 iterations\n",
      "Iteration 0 of 3000\n",
      "Iteration 1000 of 3000\n",
      "Iteration 2000 of 3000\n",
      "Training accuracy is 43.82022471910113%\n",
      "Prediction accuracy is 49.57983193277311%\n",
      "Starting gradient descent for 3000 iterations\n",
      "Iteration 0 of 3000\n",
      "Iteration 1000 of 3000\n",
      "Iteration 2000 of 3000\n",
      "Training accuracy is 50.56179775280899%\n",
      "Prediction accuracy is 58.82352941176471%\n",
      "Starting gradient descent for 3000 iterations\n",
      "Iteration 0 of 3000\n",
      "Iteration 1000 of 3000\n",
      "Iteration 2000 of 3000\n",
      "Training accuracy is 58.42696629213483%\n",
      "Prediction accuracy is 69.74789915966386%\n",
      "Starting gradient descent for 3000 iterations\n",
      "Iteration 0 of 3000\n",
      "Iteration 1000 of 3000\n",
      "Iteration 2000 of 3000\n",
      "Training accuracy is 43.82022471910113%\n",
      "Prediction accuracy is 50.42016806722689%\n",
      "Starting gradient descent for 3000 iterations\n",
      "Iteration 0 of 3000\n",
      "Iteration 1000 of 3000\n",
      "Iteration 2000 of 3000\n",
      "Training accuracy is 66.29213483146067%\n",
      "Prediction accuracy is 70.58823529411765%\n",
      "Starting gradient descent for 3000 iterations\n",
      "Iteration 0 of 3000\n",
      "Iteration 1000 of 3000\n",
      "Iteration 2000 of 3000\n",
      "Training accuracy is 64.60674157303372%\n",
      "Prediction accuracy is 85.71428571428571%\n",
      "Starting gradient descent for 3000 iterations\n",
      "Iteration 0 of 3000\n",
      "Iteration 1000 of 3000\n",
      "Iteration 2000 of 3000\n",
      "Training accuracy is 70.2247191011236%\n",
      "Prediction accuracy is 78.15126050420169%\n",
      "Starting gradient descent for 3000 iterations\n",
      "Iteration 0 of 3000\n",
      "Iteration 1000 of 3000\n",
      "Iteration 2000 of 3000\n",
      "Training accuracy is 72.47191011235955%\n",
      "Prediction accuracy is 79.83193277310924%\n",
      "Starting gradient descent for 3000 iterations\n",
      "Iteration 0 of 3000\n",
      "Iteration 1000 of 3000\n",
      "Iteration 2000 of 3000\n",
      "Training accuracy is 71.91011235955057%\n",
      "Prediction accuracy is 83.19327731092437%\n",
      "Starting gradient descent for 3000 iterations\n",
      "Iteration 0 of 3000\n",
      "Iteration 1000 of 3000\n",
      "Iteration 2000 of 3000\n",
      "Training accuracy is 75.84269662921348%\n",
      "Prediction accuracy is 80.67226890756302%\n",
      "Starting gradient descent for 3000 iterations\n",
      "Iteration 0 of 3000\n",
      "Iteration 1000 of 3000\n",
      "Iteration 2000 of 3000\n",
      "Training accuracy is 75.28089887640449%\n",
      "Prediction accuracy is 80.67226890756302%\n",
      "Starting gradient descent for 3000 iterations\n",
      "Iteration 0 of 3000\n",
      "Iteration 1000 of 3000\n",
      "Iteration 2000 of 3000\n",
      "Training accuracy is 78.08988764044943%\n",
      "Prediction accuracy is 81.5126050420168%\n",
      "Starting gradient descent for 3000 iterations\n",
      "Iteration 0 of 3000\n",
      "Iteration 1000 of 3000\n",
      "Iteration 2000 of 3000\n",
      "Training accuracy is 77.52808988764045%\n",
      "Prediction accuracy is 79.83193277310924%\n",
      "Starting gradient descent for 3000 iterations\n",
      "Iteration 0 of 3000\n",
      "Iteration 1000 of 3000\n",
      "Iteration 2000 of 3000\n",
      "Training accuracy is 75.28089887640449%\n",
      "Prediction accuracy is 82.35294117647058%\n",
      "Starting gradient descent for 3000 iterations\n",
      "Iteration 0 of 3000\n",
      "Iteration 1000 of 3000\n",
      "Iteration 2000 of 3000\n",
      "Training accuracy is 78.65168539325843%\n",
      "Prediction accuracy is 80.67226890756302%\n",
      "Starting gradient descent for 3000 iterations\n",
      "Iteration 0 of 3000\n",
      "Iteration 1000 of 3000\n",
      "Iteration 2000 of 3000\n",
      "Training accuracy is 78.65168539325843%\n",
      "Prediction accuracy is 84.03361344537815%\n",
      "Starting gradient descent for 3000 iterations\n",
      "Iteration 0 of 3000\n",
      "Iteration 1000 of 3000\n",
      "Iteration 2000 of 3000\n",
      "Training accuracy is 83.14606741573034%\n",
      "Prediction accuracy is 84.03361344537815%\n",
      "Starting gradient descent for 3000 iterations\n",
      "Iteration 0 of 3000\n",
      "Iteration 1000 of 3000\n",
      "Iteration 2000 of 3000\n",
      "Training accuracy is 85.39325842696628%\n",
      "Prediction accuracy is 81.5126050420168%\n",
      "Starting gradient descent for 3000 iterations\n",
      "Iteration 0 of 3000\n",
      "Iteration 1000 of 3000\n",
      "Iteration 2000 of 3000\n",
      "Training accuracy is 86.51685393258427%\n",
      "Prediction accuracy is 82.35294117647058%\n",
      "Starting gradient descent for 3000 iterations\n",
      "Iteration 0 of 3000\n",
      "Iteration 1000 of 3000\n",
      "Iteration 2000 of 3000\n",
      "Training accuracy is 87.64044943820225%\n",
      "Prediction accuracy is 81.5126050420168%\n",
      "Starting gradient descent for 3000 iterations\n",
      "Iteration 0 of 3000\n",
      "Iteration 1000 of 3000\n",
      "Iteration 2000 of 3000\n",
      "Training accuracy is 89.32584269662921%\n",
      "Prediction accuracy is 81.5126050420168%\n",
      "Starting gradient descent for 3000 iterations\n",
      "Iteration 0 of 3000\n",
      "Iteration 1000 of 3000\n",
      "Iteration 2000 of 3000\n",
      "Training accuracy is 89.32584269662921%\n",
      "Prediction accuracy is 81.5126050420168%\n",
      "Starting gradient descent for 3000 iterations\n",
      "Iteration 0 of 3000\n",
      "Iteration 1000 of 3000\n",
      "Iteration 2000 of 3000\n",
      "Training accuracy is 88.76404494382022%\n",
      "Prediction accuracy is 81.5126050420168%\n",
      "Starting gradient descent for 3000 iterations\n",
      "Iteration 0 of 3000\n",
      "Iteration 1000 of 3000\n",
      "Iteration 2000 of 3000\n",
      "Training accuracy is 91.01123595505618%\n",
      "Prediction accuracy is 79.83193277310924%\n",
      "Starting gradient descent for 3000 iterations\n",
      "Iteration 0 of 3000\n",
      "Iteration 1000 of 3000\n",
      "Iteration 2000 of 3000\n",
      "Training accuracy is 91.57303370786516%\n",
      "Prediction accuracy is 81.5126050420168%\n",
      "Starting gradient descent for 3000 iterations\n",
      "Iteration 0 of 3000\n",
      "Iteration 1000 of 3000\n",
      "Iteration 2000 of 3000\n",
      "Training accuracy is 94.3820224719101%\n",
      "Prediction accuracy is 80.67226890756302%\n",
      "Starting gradient descent for 3000 iterations\n",
      "Iteration 0 of 3000\n",
      "Iteration 1000 of 3000\n",
      "Iteration 2000 of 3000\n",
      "Training accuracy is 95.50561797752809%\n",
      "Prediction accuracy is 74.78991596638656%\n",
      "Starting gradient descent for 3000 iterations\n",
      "Iteration 0 of 3000\n",
      "Iteration 1000 of 3000\n",
      "Iteration 2000 of 3000\n",
      "Training accuracy is 95.50561797752809%\n",
      "Prediction accuracy is 76.47058823529412%\n",
      "Starting gradient descent for 3000 iterations\n",
      "Iteration 0 of 3000\n",
      "Iteration 1000 of 3000\n",
      "Iteration 2000 of 3000\n",
      "Training accuracy is 96.06741573033707%\n",
      "Prediction accuracy is 68.0672268907563%\n",
      "Starting gradient descent for 3000 iterations\n",
      "Iteration 0 of 3000\n",
      "Iteration 1000 of 3000\n",
      "Iteration 2000 of 3000\n",
      "Training accuracy is 96.62921348314607%\n",
      "Prediction accuracy is 70.58823529411765%\n",
      "[[0.001, 0.43820224719101125], [0.0013179554578665073, 0.5056179775280899], [0.0017370065889201168, 0.5842696629213483], [0.0022892973142173523, 0.43820224719101125], [0.0030171918899518993, 0.6629213483146067], [0.003976524518792668, 0.6460674157303371], [0.005240882192882783, 0.702247191011236], [0.006907249290145261, 0.7247191011235955], [0.009103446900791505, 0.7191011235955056], [0.01199793752829611, 0.7584269662921348], [0.01581274724855926, 0.7528089887640449], [0.020840496540102282, 0.7808988764044944], [0.02746684615967588, 0.7752808988764045], [0.03620007980652456, 0.7528089887640449], [0.047710092756212186, 0.7865168539325843], [0.06287977714336719, 0.7865168539325843], [0.08287274547553049, 0.8314606741573034], [0.10922258720785737, 0.8539325842696629], [0.14395050493289618, 0.8651685393258427], [0.18972035363895032, 0.8764044943820225], [0.2500429755468184, 0.8932584269662921], [0.3295455043231113, 0.8932584269662921], [0.43432629603801526, 0.8876404494382022], [0.5724227123582466, 0.9101123595505618], [0.7544276379593017, 0.9157303370786517], [0.994302023013799, 0.9438202247191011], [1.3104457779987473, 0.9550561797752809], [1.7271091653515704, 0.9550561797752809], [2.2762529508063705, 0.9606741573033708], [3.0, 0.9662921348314607]] [[0.001, 0.4957983193277311], [0.0013179554578665073, 0.5882352941176471], [0.0017370065889201168, 0.6974789915966386], [0.0022892973142173523, 0.5042016806722689], [0.0030171918899518993, 0.7058823529411765], [0.003976524518792668, 0.8571428571428571], [0.005240882192882783, 0.7815126050420168], [0.006907249290145261, 0.7983193277310925], [0.009103446900791505, 0.8319327731092437], [0.01199793752829611, 0.8067226890756303], [0.01581274724855926, 0.8067226890756303], [0.020840496540102282, 0.8151260504201681], [0.02746684615967588, 0.7983193277310925], [0.03620007980652456, 0.8235294117647058], [0.047710092756212186, 0.8067226890756303], [0.06287977714336719, 0.8403361344537815], [0.08287274547553049, 0.8403361344537815], [0.10922258720785737, 0.8151260504201681], [0.14395050493289618, 0.8235294117647058], [0.18972035363895032, 0.8151260504201681], [0.2500429755468184, 0.8151260504201681], [0.3295455043231113, 0.8151260504201681], [0.43432629603801526, 0.8151260504201681], [0.5724227123582466, 0.7983193277310925], [0.7544276379593017, 0.8151260504201681], [0.994302023013799, 0.8067226890756303], [1.3104457779987473, 0.7478991596638656], [1.7271091653515704, 0.7647058823529411], [2.2762529508063705, 0.680672268907563], [3.0, 0.7058823529411765]]\n"
     ]
    }
   ],
   "source": [
    "res_4_small = []\n",
    "lambs_4_small = np.geomspace(0.001, 3, 30)\n",
    "#print(lambs_4_small)\n",
    "tr_4_002, test_4_002 = main(4, lambs_4_small, 3000)\n",
    "print(tr_4_002, test_4_002)"
   ]
  },
  {
   "cell_type": "code",
   "execution_count": 20,
   "metadata": {
    "scrolled": true
   },
   "outputs": [
    {
     "name": "stdout",
     "output_type": "stream",
     "text": [
      "[0.001, 0.43820224719101125]\n",
      "[0.0013179554578665073, 0.5056179775280899]\n",
      "[0.0017370065889201168, 0.5842696629213483]\n",
      "[0.0022892973142173523, 0.43820224719101125]\n",
      "[0.0030171918899518993, 0.6629213483146067]\n",
      "[0.003976524518792668, 0.6460674157303371]\n",
      "[0.005240882192882783, 0.702247191011236]\n",
      "[0.006907249290145261, 0.7247191011235955]\n",
      "[0.009103446900791505, 0.7191011235955056]\n",
      "[0.01199793752829611, 0.7584269662921348]\n",
      "[0.01581274724855926, 0.7528089887640449]\n",
      "[0.020840496540102282, 0.7808988764044944]\n",
      "[0.02746684615967588, 0.7752808988764045]\n",
      "[0.03620007980652456, 0.7528089887640449]\n",
      "[0.047710092756212186, 0.7865168539325843]\n",
      "[0.06287977714336719, 0.7865168539325843]\n",
      "[0.08287274547553049, 0.8314606741573034]\n",
      "[0.10922258720785737, 0.8539325842696629]\n",
      "[0.14395050493289618, 0.8651685393258427]\n",
      "[0.18972035363895032, 0.8764044943820225]\n",
      "[0.2500429755468184, 0.8932584269662921]\n",
      "[0.3295455043231113, 0.8932584269662921]\n",
      "[0.43432629603801526, 0.8876404494382022]\n",
      "[0.5724227123582466, 0.9101123595505618]\n",
      "[0.7544276379593017, 0.9157303370786517]\n",
      "[0.994302023013799, 0.9438202247191011]\n",
      "[1.3104457779987473, 0.9550561797752809]\n",
      "[1.7271091653515704, 0.9550561797752809]\n",
      "[2.2762529508063705, 0.9606741573033708]\n",
      "[3.0, 0.9662921348314607]\n",
      "\n",
      "[0.001, 0.4957983193277311]\n",
      "[0.0013179554578665073, 0.5882352941176471]\n",
      "[0.0017370065889201168, 0.6974789915966386]\n",
      "[0.0022892973142173523, 0.5042016806722689]\n",
      "[0.0030171918899518993, 0.7058823529411765]\n",
      "[0.003976524518792668, 0.8571428571428571]\n",
      "[0.005240882192882783, 0.7815126050420168]\n",
      "[0.006907249290145261, 0.7983193277310925]\n",
      "[0.009103446900791505, 0.8319327731092437]\n",
      "[0.01199793752829611, 0.8067226890756303]\n",
      "[0.01581274724855926, 0.8067226890756303]\n",
      "[0.020840496540102282, 0.8151260504201681]\n",
      "[0.02746684615967588, 0.7983193277310925]\n",
      "[0.03620007980652456, 0.8235294117647058]\n",
      "[0.047710092756212186, 0.8067226890756303]\n",
      "[0.06287977714336719, 0.8403361344537815]\n",
      "[0.08287274547553049, 0.8403361344537815]\n",
      "[0.10922258720785737, 0.8151260504201681]\n",
      "[0.14395050493289618, 0.8235294117647058]\n",
      "[0.18972035363895032, 0.8151260504201681]\n",
      "[0.2500429755468184, 0.8151260504201681]\n",
      "[0.3295455043231113, 0.8151260504201681]\n",
      "[0.43432629603801526, 0.8151260504201681]\n",
      "[0.5724227123582466, 0.7983193277310925]\n",
      "[0.7544276379593017, 0.8151260504201681]\n",
      "[0.994302023013799, 0.8067226890756303]\n",
      "[1.3104457779987473, 0.7478991596638656]\n",
      "[1.7271091653515704, 0.7647058823529411]\n",
      "[2.2762529508063705, 0.680672268907563]\n",
      "[3.0, 0.7058823529411765]\n"
     ]
    }
   ],
   "source": [
    "for elem in tr_4_002:\n",
    "    print(elem)\n",
    "print()\n",
    "for elem in test_4_002:\n",
    "    print(elem)"
   ]
  }
 ],
 "metadata": {
  "kernelspec": {
   "display_name": "Python 3",
   "language": "python",
   "name": "python3"
  },
  "language_info": {
   "codemirror_mode": {
    "name": "ipython",
    "version": 3
   },
   "file_extension": ".py",
   "mimetype": "text/x-python",
   "name": "python",
   "nbconvert_exporter": "python",
   "pygments_lexer": "ipython3",
   "version": "3.7.1"
  }
 },
 "nbformat": 4,
 "nbformat_minor": 2
}
